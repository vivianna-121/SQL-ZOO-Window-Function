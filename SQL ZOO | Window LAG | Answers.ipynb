{
 "cells": [
  {
   "cell_type": "markdown",
   "metadata": {},
   "source": [
    "# Window LAG"
   ]
  },
  {
   "cell_type": "markdown",
   "metadata": {},
   "source": [
    "**1.The example uses a WHERE clause to show the cases in 'Italy' in March.**  \n",
    "Modify the query to show data from Spain"
   ]
  },
  {
   "cell_type": "code",
   "execution_count": null,
   "metadata": {},
   "outputs": [],
   "source": [
    "SELECT name, DAY(whn),\n",
    " confirmed, deaths, recovered\n",
    "FROM covid\n",
    "WHERE name = 'Spain'\n",
    "AND MONTH(whn) = 3\n",
    "ORDER BY whn;\n"
   ]
  },
  {
   "cell_type": "markdown",
   "metadata": {},
   "source": [
    "**2.The LAG function is used to show data from the preceding row or the table. When lining up rows the data is partitioned by country name and ordered by the data whn. That means that only data from Italy is considered.**  \n",
    "Modify the query to show confirmed for the day before."
   ]
  },
  {
   "cell_type": "code",
   "execution_count": null,
   "metadata": {},
   "outputs": [],
   "source": [
    "SELECT name, DAY(whn), confirmed,\n",
    "   LAG(confirmed,1) OVER (PARTITION BY name ORDER BY whn) PreDay\n",
    "FROM covid\n",
    "WHERE name = 'Italy'\n",
    "AND MONTH(whn) = 3\n",
    "ORDER BY whn;"
   ]
  },
  {
   "cell_type": "markdown",
   "metadata": {},
   "source": [
    "**3.The number of confirmed case is cumulative - but we can use LAG to recover the number of new cases reported for each day.**  \n",
    "Show the number of new cases for each day, for Italy, for March."
   ]
  },
  {
   "cell_type": "code",
   "execution_count": null,
   "metadata": {},
   "outputs": [],
   "source": [
    "SELECT name, day, confirmed-lag AS new\n",
    "FROM(\n",
    "    SELECT name, DAY(whn) day, confirmed,\n",
    "    LAG(confirmed, 1) OVER (PARTITION BY name ORDER BY whn) lag  \n",
    "    FROM covid\n",
    "    WHERE name = 'Italy'\n",
    "    AND MONTH(whn) = 3\n",
    "    ORDER BY whn\n",
    "    ) temp;"
   ]
  },
  {
   "cell_type": "markdown",
   "metadata": {},
   "source": [
    "**4.The data gathered are necessarily estimates and are inaccurate. However by taking a longer time span we can mitigate some of the effects.**  \n",
    "-You can filter the data to view only Monday's figures WHERE WEEKDAY(whn) = 0.  \n",
    "-Show the number of new cases in Italy for each week - show Monday only."
   ]
  },
  {
   "cell_type": "code",
   "execution_count": null,
   "metadata": {},
   "outputs": [],
   "source": [
    "SELECT name, whn, (confirmed-lag) AS new\n",
    "FROM(\n",
    "    SELECT name, DATE_FORMAT(whn,'%Y-%m-%d') whn, confirmed,\n",
    "    LAG(confirmed)OVER(PARTITION BY name ORDER BY whn) lag \n",
    "    FROM covid\n",
    "    WHERE name = 'Italy'\n",
    "    AND WEEKDAY(whn) = 0\n",
    "    ORDER BY whn\n",
    "    ) temp;"
   ]
  },
  {
   "cell_type": "markdown",
   "metadata": {},
   "source": [
    "**5.You can JOIN a table using DATE arithmetic. This will give different results if data is missing.**  \n",
    "-Show the number of new cases in Italy for each week - show Monday only.  \n",
    "-In the sample query we JOIN this week tw with last week lw using the DATE_ADD function."
   ]
  },
  {
   "cell_type": "code",
   "execution_count": null,
   "metadata": {},
   "outputs": [],
   "source": [
    "SELECT tw.name, DATE_FORMAT(tw.whn,'%Y-%m-%d'), \n",
    " tw.confirmed-lw.confirmed\n",
    "FROM covid tw \n",
    "LEFT JOIN covid lw \n",
    "ON(DATE_ADD(lw.whn, INTERVAL 1 WEEK) = tw.whn\n",
    "   AND tw.name=lw.name)\n",
    "WHERE tw.name = 'Italy' AND WEEKDAY(tw.whn)=0\n",
    "ORDER BY tw.whn;\n"
   ]
  },
  {
   "cell_type": "markdown",
   "metadata": {},
   "source": [
    "**6.The query shown shows the number of confirmed cases together with the world ranking for cases.**  \n",
    "United States has the highest number, Spain is number 2...  \n",
    "Notice that while Spain has the second highest confirmed cases, Italy has the second highest number of deaths due to the virus.  \n",
    "Include the ranking for the number of deaths in the table."
   ]
  },
  {
   "cell_type": "code",
   "execution_count": null,
   "metadata": {},
   "outputs": [],
   "source": [
    "SELECT \n",
    "   name,\n",
    "   confirmed,\n",
    "   RANK() OVER (ORDER BY confirmed DESC) rc,\n",
    "   deaths,\n",
    "   RANK() OVER (ORDER BY deaths DESC) death_rc\n",
    "FROM covid\n",
    "WHERE whn = '2020-04-20'\n",
    "ORDER BY confirmed DESC;"
   ]
  },
  {
   "cell_type": "markdown",
   "metadata": {},
   "source": [
    "**7.The query shown includes a JOIN t the world table so we can access the total population of each country and calculate infection rates (in cases per 100,000).**  \n",
    "Show the infect rate ranking for each country. Only include countries with a population of at least 10 million."
   ]
  },
  {
   "cell_type": "code",
   "execution_count": null,
   "metadata": {},
   "outputs": [],
   "source": [
    "SELECT world.name,round(100000*confirmed/population,0) AS infect,\n",
    "       RANK() OVER (ORDER BY confirmed/population) AS rank\n",
    "FROM covid JOIN world ON covid.name=world.name\n",
    "WHERE whn = '2020-04-20' AND population > 10000000\n",
    "ORDER BY population DESC;"
   ]
  },
  {
   "cell_type": "markdown",
   "metadata": {},
   "source": [
    "**8.For each country that has had at last 1000 new cases in a single day, show the date of the peak number of new cases.**"
   ]
  },
  {
   "cell_type": "code",
   "execution_count": null,
   "metadata": {},
   "outputs": [],
   "source": [
    "SELECT name,date,MAX(confirmed-lag) AS PeakNew \n",
    "FROM(\n",
    "    SELECT name, DATE_FORMAT(whn,'%Y-%m-%d') date, confirmed,\n",
    "    LAG(confirmed, 1) OVER (PARTITION BY name ORDER BY whn) lag  \n",
    "    FROM covid \n",
    "    ORDER BY  confirmed\n",
    ") temp\n",
    "GROUP BY name\n",
    "HAVING PeakNew>=1000\n",
    "ORDER BY PeakNew DESC;"
   ]
  },
  {
   "cell_type": "markdown",
   "metadata": {},
   "source": [
    "# Self Join"
   ]
  },
  {
   "cell_type": "markdown",
   "metadata": {},
   "source": [
    "**5.Execute the self join shown and observe that b.stop gives all the places you can get to from Craiglockhart, without changing routes. Change the query so that it shows the services from Craiglockhart to London Road.**"
   ]
  },
  {
   "cell_type": "code",
   "execution_count": null,
   "metadata": {},
   "outputs": [],
   "source": [
    "SELECT a.company, a.num, a.stop, b.stop\n",
    "FROM route a JOIN route b ON\n",
    "  (a.company=b.company AND a.num=b.num)\n",
    "WHERE a.stop=53 AND b.stop=149;"
   ]
  },
  {
   "cell_type": "markdown",
   "metadata": {},
   "source": [
    "**6.The query shown is similar to the previous one, however by joining two copies of the stops table we can refer to stops by name rather than by number. Change the query so that the services between 'Craiglockhart' and 'London Road' are shown.**"
   ]
  },
  {
   "cell_type": "code",
   "execution_count": null,
   "metadata": {},
   "outputs": [],
   "source": [
    "SELECT a.company, a.num, stopa.name, stopb.name\n",
    "FROM route a JOIN route b ON\n",
    "  (a.company=b.company AND a.num=b.num)\n",
    "  JOIN stops stopa ON (a.stop=stopa.id)\n",
    "  JOIN stops stopb ON (b.stop=stopb.id)\n",
    "WHERE stopa.name='Craiglockhart'\n",
    "AND stopb.name='London Road';"
   ]
  },
  {
   "cell_type": "markdown",
   "metadata": {},
   "source": [
    "**7.Give a list of all the services which connect stops 115 and 137 ('Haymarket' and 'Leith')**"
   ]
  },
  {
   "cell_type": "code",
   "execution_count": null,
   "metadata": {},
   "outputs": [],
   "source": [
    "SELECT DISTINCT(a.company),a.num\n",
    "FROM route a JOIN route b\n",
    "ON a.num=b.num AND a.company=b.company\n",
    "WHERE a.stop=115 AND b.stop=137;"
   ]
  },
  {
   "cell_type": "markdown",
   "metadata": {},
   "source": [
    "**8.Give a list of the services which connect the stops 'Craiglockhart' and 'Tollcross'**"
   ]
  },
  {
   "cell_type": "code",
   "execution_count": null,
   "metadata": {},
   "outputs": [],
   "source": [
    "SELECT DISTINCT(a.company),a.num\n",
    "FROM route a \n",
    "JOIN route b ON (a.num=b.num AND a.company=b.company)\n",
    "JOIN stops stopa ON stopa.id=a.stop\n",
    "JOIN stops stopb ON stopb.id=b.stop\n",
    "WHERE stopa.name='Craiglockhart'  AND stopb.name='Tollcross';"
   ]
  },
  {
   "cell_type": "markdown",
   "metadata": {},
   "source": [
    "**9.Give a distinct list of the stops which may be reached from 'Craiglockhart' by taking one bus, including 'Craiglockhart' itself, offered by the LRT company. Include the company and bus no. of the relevant services.**\n"
   ]
  },
  {
   "cell_type": "code",
   "execution_count": null,
   "metadata": {},
   "outputs": [],
   "source": [
    "SELECT DISTINCT(stopa.name), a.company, a.num\n",
    "FROM route a \n",
    "JOIN route b ON (a.num=b.num AND a.company=b.company)\n",
    "JOIN stops stopa ON stopa.id=a.stop\n",
    "JOIN stops stopb ON stopb.id=b.stop\n",
    "WHERE stopb.name= 'Craiglockhart' ;"
   ]
  },
  {
   "cell_type": "markdown",
   "metadata": {},
   "source": [
    "** **10.Find the routes involving two buses that can go from Craiglockhart to Lochend.\n",
    "Show the bus no. and company for the first bus, the name of the stop for the transfer,\n",
    "and the bus no. and company for the second bus.**  \n",
    "Hint  \n",
    "Self-join twice to find buses that visit Craiglockhart and Lochend, then join those on matching stops."
   ]
  },
  {
   "cell_type": "markdown",
   "metadata": {},
   "source": [
    "**Steps to solve this problem: divided the problem into two.**.  \n",
    "-First subquery will be the table S(Start), which will get all the routes that start from 'Craiglockhart' Second subquery will be the table E(End), which will get all the routes that start from 'Lochend'  \n",
    "-Now both table S and E will have common routes, and i get all this common routes by joining the subqueries, using the ids of each table. As there are duplicates routes(same: S.num, S.company, stops.name, E.num, E.company) i used DISTINCT."
   ]
  },
  {
   "cell_type": "code",
   "execution_count": null,
   "metadata": {},
   "outputs": [],
   "source": [
    "SELECT DISTINCT S.num, S.company, stops.name, E.num, E.company\n",
    "FROM\n",
    "    (SELECT a.company, a.num, b.stop\n",
    "     FROM route a JOIN route b ON (a.company=b.company AND a.num=b.num)\n",
    "     WHERE a.stop=(SELECT id FROM stops WHERE name= 'Craiglockhart')\n",
    "    )S\n",
    "JOIN\n",
    "    (SELECT a.company, a.num, b.stop\n",
    "     FROM route a JOIN route b ON (a.company=b.company AND a.num=b.num)\n",
    "     WHERE a.stop=(SELECT id FROM stops WHERE name= 'Lochend')\n",
    "    )E\n",
    "ON (S.stop = E.stop)\n",
    "JOIN stops ON(stops.id = S.stop)"
   ]
  },
  {
   "cell_type": "code",
   "execution_count": null,
   "metadata": {},
   "outputs": [],
   "source": []
  }
 ],
 "metadata": {
  "kernelspec": {
   "display_name": "Python 3",
   "language": "python",
   "name": "python3"
  },
  "language_info": {
   "codemirror_mode": {
    "name": "ipython",
    "version": 3
   },
   "file_extension": ".py",
   "mimetype": "text/x-python",
   "name": "python",
   "nbconvert_exporter": "python",
   "pygments_lexer": "ipython3",
   "version": "3.7.1"
  }
 },
 "nbformat": 4,
 "nbformat_minor": 4
}
